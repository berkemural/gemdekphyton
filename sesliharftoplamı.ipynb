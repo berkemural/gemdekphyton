{
 "cells": [
  {
   "cell_type": "code",
   "execution_count": 1,
   "id": "7c3b29fd",
   "metadata": {},
   "outputs": [],
   "source": [
    "vowels = [\"a\",\"e\",\"i\",\"u\",\"o\",\"A\",\"E\",\"I\",\"U\",\"O\"]\n",
    "def vowelcounter(kelime: str):    \n",
    "    sayac=0\n",
    "    for vowel in vowels:    \n",
    "        sayac += kelime.count(vowel)        \n",
    "    print(sayac)    \n",
    "        \n",
    "    "
   ]
  },
  {
   "cell_type": "code",
   "execution_count": 2,
   "id": "42ac15b9",
   "metadata": {},
   "outputs": [
    {
     "name": "stdout",
     "output_type": "stream",
     "text": [
      "10\n"
     ]
    }
   ],
   "source": [
    "vowelcounter(\"kod calisiyor mu denemesi\")"
   ]
  },
  {
   "cell_type": "code",
   "execution_count": null,
   "id": "af77de53",
   "metadata": {},
   "outputs": [],
   "source": []
  }
 ],
 "metadata": {
  "kernelspec": {
   "display_name": "Python 3 (ipykernel)",
   "language": "python",
   "name": "python3"
  },
  "language_info": {
   "codemirror_mode": {
    "name": "ipython",
    "version": 3
   },
   "file_extension": ".py",
   "mimetype": "text/x-python",
   "name": "python",
   "nbconvert_exporter": "python",
   "pygments_lexer": "ipython3",
   "version": "3.11.5"
  }
 },
 "nbformat": 4,
 "nbformat_minor": 5
}
